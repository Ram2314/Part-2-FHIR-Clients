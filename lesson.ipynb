{
 "cells": [
  {
   "cell_type": "markdown",
   "source": [
    "# Introduction to FHIR Clients\n",
    "\n",
    "In this lesson, we will get hands-on experience with a FHIR client created and maintained by SMART. We will explore the different components of the client, focusing on the following major themes:\n",
    "\n",
    "1. **Connection**\n",
    "2. **Basic RESTful Methods**\n",
    "3. **Advanced RESTful Methods**\n",
    "4. **Resource Model**\n",
    "5. **Parsing and Serialization**\n",
    "6. **Search**\n",
    "\n",
    "As with learning any new library, you can read the technical requirements in the [SMART on FHIR Python Client Documentation](https://docs.smarthealthit.org/client-py/). \n",
    "\n",
    "Ensure you have the `fhirclient` library installed. This is automatically installed using the `requirements.txt`. In this lesson we will us OOP (Object-Oriented Programming) principles. When we make a solution `class`, the `__init__` method should a settings attribute that we set and make a FHIR Client instance as a other attribute."
   ],
   "metadata": {
    "collapsed": false
   },
   "id": "6fe0ac353fb00712"
  },
  {
   "cell_type": "markdown",
   "source": [
    "## Connection\n",
    "\n",
    "In this section, we will explore how to establish a connection using the FHIR Client."
   ],
   "metadata": {
    "collapsed": false
   },
   "id": "26116a4b1db5b48b"
  },
  {
   "cell_type": "markdown",
   "source": [
    "### Background\n",
    "\n",
    "To interact with a FHIR server, we need to establish a connection using the FHIR Client library. This involves configuring the client with the appropriate settings and verifying the server's readiness.\n",
    "\n",
    "\n",
    "### Instructions\n",
    "\n",
    "We will create a class called `MakeConnection` with two methods:\n",
    "\n",
    "1. `__init__`\n",
    "2. `run`\n",
    "\n",
    "- The `__init__` method will create a FHIRClient instance with the appropriate settings.\n",
    "- The `run` method will print the prepared and ready state of the server."
   ],
   "metadata": {
    "collapsed": false
   },
   "id": "e8d40f285e655599"
  },
  {
   "cell_type": "code",
   "execution_count": 16,
   "id": "initial_id",
   "metadata": {
    "collapsed": true,
    "ExecuteTime": {
     "end_time": "2024-07-15T23:26:57.586036Z",
     "start_time": "2024-07-15T23:26:57.579197Z"
    }
   },
   "outputs": [],
   "source": []
  },
  {
   "cell_type": "markdown",
   "source": [
    "## Reading resources\n",
    "\n",
    "### Background and Motivation\n",
    "\n",
    "In FHIR, reading resources is a fundamental operation for retrieving data from a FHIR server. There are multiple ways to read resources, depending on whether you need a specific version of the resource or are using a full URL. Understanding these methods is crucial for effective data retrieval in healthcare applications.\n",
    "\n",
    "### Objective\n",
    "\n",
    "The goal of this assignment is to modify an existing FHIR client to:\n",
    "1. Perform a direct read of a patient resource by its ID.\n",
    "2. Perform a URL-based read of a patient resource.\n",
    "\n",
    "### Instructions\n",
    "\n",
    "1. **Create class:**\n",
    "   - Define a class named `ReadPatient`.\n",
    "   - Initialize the class with the base URL of the FHIR server and set the FHIR client settings.\n",
    "\n",
    "2. **Direct Read Method:**\n",
    "   - Implement a method  `read_patient` with arguments: `patient_id` to read a patient resource by its ID using the FHIR client.\n",
    "\n",
    "3. **URL Read Method:**\n",
    "   - Implement a method `url_read_patient` with arguments: `full_url` to read a patient resource by its full URL using the FHIR client.\n"
   ],
   "metadata": {
    "collapsed": false
   },
   "id": "d87e347d3e654ae3"
  },
  {
   "cell_type": "code",
   "execution_count": 25,
   "outputs": [],
   "source": [],
   "metadata": {
    "collapsed": false,
    "ExecuteTime": {
     "end_time": "2024-07-15T23:54:58.783830Z",
     "start_time": "2024-07-15T23:54:58.740131Z"
    }
   },
   "id": "72817a5368c7fa3a"
  },
  {
   "cell_type": "markdown",
   "source": [
    "# Basic RESTful Methods\n",
    "Right now we will cover the traditional RESTful methods (CRUD): create, read, update and delete resources, and in the last steps of this subunit we will cover searching.\n",
    "\n",
    "Always remember to import the required classes from the HAPI model."
   ],
   "metadata": {
    "collapsed": false
   },
   "id": "8fda5260c27c254a"
  },
  {
   "cell_type": "markdown",
   "source": [
    "## Populating a Patient Resource\n",
    "\n",
    "### Background and Motivation\n",
    "\n",
    "Understanding how to create resources programmatically allows you to populate the server with necessary data efficiently. This exercise focuses on creating a new Patient resource, which is a fundamental entity in healthcare applications.\n",
    "\n",
    "### Objective\n",
    "\n",
    "The goal of this assignment is to create a new Patient resource using the FHIR client in Python. You will:\n",
    "1. Create and populate a Patient resource instance.\n",
    "2. Invoke the create method on the FHIR server to store the resource.\n",
    "\n",
    "### Instructions\n",
    "\n",
    "1. **Create the Skeleton Class:**\n",
    "   - Define a class named `CreateNewPatient`.\n",
    "   - Initialize the class with the base URL of the FHIR server and set the FHIR client settings.\n",
    "\n",
    "2. **Create and Populate the Patient Resource:**\n",
    "   - Implement a method `create_patient` with arguments: `None` to create and populate a Patient resource with the given data."
   ],
   "metadata": {
    "collapsed": false
   },
   "id": "f4cf553a2d965251"
  },
  {
   "cell_type": "code",
   "execution_count": null,
   "outputs": [],
   "source": [],
   "metadata": {
    "collapsed": false,
    "ExecuteTime": {
     "end_time": "2024-07-16T04:08:21.900288Z",
     "start_time": "2024-07-16T04:08:21.892509Z"
    }
   },
   "id": "424f898fc16a9f58"
  },
  {
   "cell_type": "markdown",
   "source": [
    "## Update a Resource\n",
    "\n",
    "### Background and Motivation\n",
    "\n",
    "Updating resources in FHIR is an essential operation for keeping healthcare data accurate and up-to-date. This involves modifying existing resource instances with new or corrected information. Understanding how to update resources programmatically allows you to maintain data integrity efficiently in healthcare applications.\n",
    "\n",
    "### Objective\n",
    "\n",
    "The goal of this assignment is to update an existing Patient resource using the FHIR client in Python. You will:\n",
    "1. Load the existing Patient resource from the server.\n",
    "2. Modify the Patient resource with new information.\n",
    "3. Invoke the update method on the FHIR server.\n",
    "4. Process the server's response to confirm the resource was updated successfully.\n",
    "\n",
    "### Instructions\n",
    "\n",
    "1. **Create the Skeleton Class:**\n",
    "   - Define a class named `UpdatePatientResource`.\n",
    "   - Initialize the class with the base URL of the FHIR server and set the FHIR client settings.\n",
    "\n",
    "2. **Load and Modify the Patient Resource:**\n",
    "   - Implement a method `update_patient` that takes arguments: `patient_id` to load the existing Patient resource and modify it with the new data.\n",
    "\n",
    "3. **Invoke the Update Method:**\n",
    "   - Implement a method to send the updated Patient resource to the FHIR server and handle the response.\n"
   ],
   "metadata": {
    "collapsed": false
   },
   "id": "2fa76f03bdd73760"
  },
  {
   "cell_type": "code",
   "execution_count": null,
   "outputs": [],
   "source": [],
   "metadata": {
    "collapsed": false,
    "ExecuteTime": {
     "end_time": "2024-07-16T04:08:30.063158Z",
     "start_time": "2024-07-16T04:08:30.047047Z"
    }
   },
   "id": "98f1336a2214087"
  },
  {
   "cell_type": "markdown",
   "source": [
    "## Delete a Resource\n",
    "\n",
    "### Background and Motivation\n",
    "\n",
    "Although deletion of resources in FHIR is rarely used, it is sometimes necessary to remove obsolete or incorrect data from the server. Understanding how to delete resources programmatically allows you to manage data more effectively, ensuring that only relevant and accurate information is retained.\n",
    "\n",
    "### Objective\n",
    "\n",
    "The goal of this assignment is to delete an existing Patient resource using the FHIR client in Python. You will:\n",
    "1. Invoke the delete method on the FHIR server to remove the resource.\n",
    "2. Process the server's response to confirm the resource was deleted successfully.\n",
    "\n",
    "### Instructions\n",
    "\n",
    "1. **Create the Skeleton Class:**\n",
    "   - Define a class named `DeletePatientResource`.\n",
    "   - Initialize the class with the base URL of the FHIR server and set the FHIR client settings.\n",
    "\n",
    "2. **Invoke the Delete Method:**\n",
    "   - Implement a method to delete the specified Patient resource from the FHIR server.\n",
    "\n",
    "3. **Process the Server's Response:**\n",
    "   - Implement a method to handle and print the server's response after the deletion request."
   ],
   "metadata": {
    "collapsed": false
   },
   "id": "f0daaed10e913f9f"
  },
  {
   "cell_type": "code",
   "execution_count": null,
   "outputs": [],
   "source": [],
   "metadata": {
    "collapsed": false,
    "ExecuteTime": {
     "end_time": "2024-07-16T04:08:35.357001Z",
     "start_time": "2024-07-16T04:08:35.340556Z"
    }
   },
   "id": "22f816133c6c439f"
  },
  {
   "cell_type": "markdown",
   "source": [
    "# Advance RESTful Methods\n",
    "We will explore some of the advanced methods in FHIR using HAPI FHIR.\n",
    "\n",
    "Advanced methods include:\n",
    "\n",
    "getting the server conformance statement\n",
    "invoking special methods defined for specific resources, like $everything Patient, and\n",
    "the FHIR terminology methods – special methods for use when working with a FHIR terminology server, related to ValueSets and CodeSystems"
   ],
   "metadata": {
    "collapsed": false
   },
   "id": "a33e19464ae94408"
  },
  {
   "cell_type": "markdown",
   "source": [
    "##  Conformance\n",
    "\n",
    "### Background and Motivation\n",
    "\n",
    "The capability statement (or conformance statement) in FHIR provides a detailed description of the functionalities that a FHIR server supports. It is crucial for understanding the capabilities and constraints of a FHIR server before interacting with it.\n",
    "\n",
    "### Objective\n",
    "\n",
    "The goal of this assignment is to obtain the capability statement of a FHIR server using the FHIR client in Python. You will:\n",
    "1. Invoke the method to obtain the capability statement from the server.\n",
    "2. Process and print the capability statement.\n",
    "\n",
    "### Instructions\n",
    "\n",
    "1. **Create the Skeleton Class:**\n",
    "   - Define a class named `GetCapabilityStatement`.\n",
    "   - Initialize the class with the base URL of the FHIR server and set the FHIR client settings.\n",
    "\n",
    "2. **Invoke the Capabilities Method:**\n",
    "   - Implement a method to obtain the capability statement from the FHIR server.\n",
    "\n",
    "3. **Process the Server's Response:**\n",
    "   - Implement a method to handle and print the server's response after the capability statement request.\n"
   ],
   "metadata": {
    "collapsed": false
   },
   "id": "845777c7244a5838"
  },
  {
   "cell_type": "code",
   "execution_count": 34,
   "outputs": [],
   "source": [],
   "metadata": {
    "collapsed": false,
    "ExecuteTime": {
     "end_time": "2024-07-16T03:20:35.270182Z",
     "start_time": "2024-07-16T03:20:35.263304Z"
    }
   },
   "id": "9e91c014a03eca2e"
  },
  {
   "cell_type": "markdown",
   "source": [
    "## Extended Operations\n",
    "\n",
    "### Background and Motivation\n",
    "\n",
    "Extended operations in FHIR provide powerful ways to interact with resources beyond the standard CRUD (Create, Read, Update, Delete) operations. The `everything` operation is particularly useful as it allows you to retrieve all related resources for a specific patient within a specified timeframe.\n",
    "\n",
    "### Objective\n",
    "\n",
    "The goal of this assignment is to use the `everything` operation to obtain all resources associated with a specific patient from December 2019 to March 2020.\n",
    "\n",
    "### Instructions\n",
    "\n",
    "1. **Create the Skeleton Class:**\n",
    "   - Define a class named `GetPatientEverything`.\n",
    "   - Initialize the class with the base URL of the FHIR server and set the FHIR client settings.\n",
    "\n",
    "2. **Set Up the Parameters:**\n",
    "   - Implement a method to set up the parameters for the operation.\n",
    "\n",
    "3. **Invoke the Operation:**\n",
    "   - Implement a method to invoke the `$everything` operation on the specified patient resource.\n",
    "\n",
    "4. **Process the Server's Response:**\n",
    "   - Implement a method to handle and print the server's response after the operation request.\n"
   ],
   "metadata": {
    "collapsed": false
   },
   "id": "440710a5b6e10d90"
  },
  {
   "cell_type": "code",
   "execution_count": 15,
   "outputs": [],
   "source": [],
   "metadata": {
    "collapsed": false,
    "ExecuteTime": {
     "end_time": "2024-07-11T00:38:27.835607Z",
     "start_time": "2024-07-11T00:38:27.830829Z"
    }
   },
   "id": "c0ffb8af1b8fb09b"
  },
  {
   "cell_type": "markdown",
   "source": [
    "## Conditional Operations\n",
    "\n",
    "### Background and Motivation\n",
    "\n",
    "Conditional operations in FHIR, such as conditional create and update, are essential for ensuring that resources are created or updated only when certain conditions are met. This is particularly useful for avoiding duplicate records and maintaining data integrity.\n",
    "\n",
    "### Objective\n",
    "\n",
    "The goal of this assignment is to create a patient resource if it doesn't already exist, by searching for a patient with a specific identifier.\n",
    "\n",
    "### Instructions\n",
    "\n",
    "1. **Create the Skeleton Class:**\n",
    "   - Define a class named `ConditionalCreatePatient`.\n",
    "   - Initialize the class with the base URL of the FHIR server and set the FHIR client settings.\n",
    "\n",
    "2. **Create a New Patient Resource:**\n",
    "   - Implement a method to create a new patient resource with the given details.\n",
    "\n",
    "3. **Perform the Conditional Create Operation:**\n",
    "   - Implement a method to perform the conditional create operation using the FHIR client.\n",
    "\n",
    "4. **Process the Server's Response:**\n",
    "   - Implement a method to hand"
   ],
   "metadata": {
    "collapsed": false
   },
   "id": "5dbd0bbdc9ba6ef"
  },
  {
   "cell_type": "code",
   "execution_count": null,
   "outputs": [],
   "source": [],
   "metadata": {
    "collapsed": false
   },
   "id": "eb7e7574d2ca853c"
  }
 ],
 "metadata": {
  "kernelspec": {
   "display_name": "Python 3",
   "language": "python",
   "name": "python3"
  },
  "language_info": {
   "codemirror_mode": {
    "name": "ipython",
    "version": 2
   },
   "file_extension": ".py",
   "mimetype": "text/x-python",
   "name": "python",
   "nbconvert_exporter": "python",
   "pygments_lexer": "ipython2",
   "version": "2.7.6"
  }
 },
 "nbformat": 4,
 "nbformat_minor": 5
}
